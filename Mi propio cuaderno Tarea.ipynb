{
 "cells": [
  {
   "cell_type": "markdown",
   "id": "e8f6dddf",
   "metadata": {},
   "source": [
    "<img src = 'operaciones_matematicas.jpg ' > "
   ]
  },
  {
   "cell_type": "markdown",
   "id": "f8a5b959",
   "metadata": {},
   "source": [
    "# CUADERNO DE EJERCICIOS DE PYTHON"
   ]
  },
  {
   "cell_type": "markdown",
   "id": "46ff1f64",
   "metadata": {},
   "source": [
    "Este es el cuaderno de Ejercicios de uso de python desde el CEC-EPN"
   ]
  },
  {
   "cell_type": "markdown",
   "id": "ebd466eb",
   "metadata": {},
   "source": [
    "USO DE OPERADORES MATEMATICOS"
   ]
  },
  {
   "cell_type": "markdown",
   "id": "067891a1",
   "metadata": {},
   "source": [
    "Las cuatro operaciones básicas\n",
    "Las cuatro operaciones aritméticas básicas son la suma (+), la resta (-), la multiplicación (*) y la división (/).\n",
    "\n",
    "Al hacer operaciones en las que intervienen números enteros y decimales, el resultado es siempre decimal. En el caso de que el resultado no tenga parte decimal, Python escribe 0 como parte decimal para indicar que el resultado es un número decimal:"
   ]
  },
  {
   "cell_type": "code",
   "execution_count": 2,
   "id": "57b77216",
   "metadata": {},
   "outputs": [
    {
     "data": {
      "text/plain": [
       "1216943"
      ]
     },
     "execution_count": 2,
     "metadata": {},
     "output_type": "execute_result"
    }
   ],
   "source": [
    "#SUMA\n",
    "\n",
    "12365+1204578"
   ]
  },
  {
   "cell_type": "code",
   "execution_count": 3,
   "id": "004a78b0",
   "metadata": {},
   "outputs": [
    {
     "data": {
      "text/plain": [
       "11159342302"
      ]
     },
     "execution_count": 3,
     "metadata": {},
     "output_type": "execute_result"
    }
   ],
   "source": [
    "#SUMA\n",
    "\n",
    "55987425+11103354877"
   ]
  },
  {
   "cell_type": "code",
   "execution_count": 4,
   "id": "0780d8e0",
   "metadata": {},
   "outputs": [
    {
     "data": {
      "text/plain": [
       "17046706"
      ]
     },
     "execution_count": 4,
     "metadata": {},
     "output_type": "execute_result"
    }
   ],
   "source": [
    "#MULTIPLICACION \n",
    "\n",
    "8549*1994"
   ]
  },
  {
   "cell_type": "code",
   "execution_count": 5,
   "id": "ac2abd96",
   "metadata": {},
   "outputs": [
    {
     "data": {
      "text/plain": [
       "13120252"
      ]
     },
     "execution_count": 5,
     "metadata": {},
     "output_type": "execute_result"
    }
   ],
   "source": [
    "#MULTIPLICACION\n",
    "\n",
    "6521*2012"
   ]
  },
  {
   "cell_type": "code",
   "execution_count": 6,
   "id": "cf8dc39a",
   "metadata": {},
   "outputs": [
    {
     "data": {
      "text/plain": [
       "(3+4j)"
      ]
     },
     "execution_count": 6,
     "metadata": {},
     "output_type": "execute_result"
    }
   ],
   "source": [
    "#NUMEROS COMPLEJOS\n",
    "\n",
    "1 + 1j + 2 + 3j"
   ]
  },
  {
   "cell_type": "code",
   "execution_count": 7,
   "id": "a1c301a6",
   "metadata": {},
   "outputs": [
    {
     "data": {
      "text/plain": [
       "(-1+1j)"
      ]
     },
     "execution_count": 7,
     "metadata": {},
     "output_type": "execute_result"
    }
   ],
   "source": [
    "#NUMEROS COMPLEJOS\n",
    "\n",
    "(1+1j) * 1j"
   ]
  },
  {
   "cell_type": "code",
   "execution_count": 8,
   "id": "b58f18a0",
   "metadata": {},
   "outputs": [
    {
     "data": {
      "text/plain": [
       "13.5"
      ]
     },
     "execution_count": 8,
     "metadata": {},
     "output_type": "execute_result"
    }
   ],
   "source": [
    "#MULTIPLICACION NUMEROS ENTEROS Y DECIMALES\n",
    "\n",
    "4.5 * 3"
   ]
  },
  {
   "cell_type": "code",
   "execution_count": 10,
   "id": "2a0eeb14",
   "metadata": {},
   "outputs": [
    {
     "data": {
      "text/plain": [
       "17.8"
      ]
     },
     "execution_count": 10,
     "metadata": {},
     "output_type": "execute_result"
    }
   ],
   "source": [
    "#MULTIPLICACION NUMEROS ENTEROS Y DECIMALES\n",
    "\n",
    "8.9 * 2"
   ]
  },
  {
   "cell_type": "code",
   "execution_count": 11,
   "id": "15676831",
   "metadata": {},
   "outputs": [
    {
     "data": {
      "text/plain": [
       "-1156"
      ]
     },
     "execution_count": 11,
     "metadata": {},
     "output_type": "execute_result"
    }
   ],
   "source": [
    "#RESTA\n",
    "\n",
    "9841 - 10997"
   ]
  },
  {
   "cell_type": "code",
   "execution_count": 12,
   "id": "8b542148",
   "metadata": {},
   "outputs": [
    {
     "data": {
      "text/plain": [
       "2022"
      ]
     },
     "execution_count": 12,
     "metadata": {},
     "output_type": "execute_result"
    }
   ],
   "source": [
    "#RESTA\n",
    "\n",
    "11983 - 9961"
   ]
  },
  {
   "cell_type": "code",
   "execution_count": 5,
   "id": "34855622",
   "metadata": {},
   "outputs": [
    {
     "data": {
      "text/plain": [
       "4.5"
      ]
     },
     "execution_count": 5,
     "metadata": {},
     "output_type": "execute_result"
    }
   ],
   "source": [
    "#DIVISION \n",
    "\n",
    "#Al dividir números enteros, el resultado es siempre decimal,\n",
    "#aunque sea un número entero. \n",
    "#Cuando Python escribe un número decimal, lo escribe siempre, \n",
    "#con parte decimal, aunque sea nula.\n",
    "\n",
    "9 / 2"
   ]
  },
  {
   "cell_type": "code",
   "execution_count": 14,
   "id": "9804956b",
   "metadata": {},
   "outputs": [
    {
     "data": {
      "text/plain": [
       "3.0"
      ]
     },
     "execution_count": 14,
     "metadata": {},
     "output_type": "execute_result"
    }
   ],
   "source": [
    "#DIVISION\n",
    "\n",
    "9 / 3\n"
   ]
  },
  {
   "cell_type": "code",
   "execution_count": 15,
   "id": "07b3f033",
   "metadata": {},
   "outputs": [
    {
     "data": {
      "text/plain": [
       "(-1+0j)"
      ]
     },
     "execution_count": 15,
     "metadata": {},
     "output_type": "execute_result"
    }
   ],
   "source": [
    "#NUMEROS COMPLEJOS\n",
    "\n",
    "#El resultado de una operación en la que intervienen números, \n",
    "#complejos es un número complejo,\n",
    "#aunque el resultado no tenga parte imaginaria.\n",
    "\n",
    "1j * 1j"
   ]
  },
  {
   "cell_type": "code",
   "execution_count": 17,
   "id": "d937b7c2",
   "metadata": {},
   "outputs": [
    {
     "data": {
      "text/plain": [
       "7"
      ]
     },
     "execution_count": 17,
     "metadata": {},
     "output_type": "execute_result"
    }
   ],
   "source": [
    "#Cuando en una fórmula aparecen varias operaciones, \n",
    "#Python las efectúa aplicando, \n",
    "#las reglas usuales de prioridad de las operaciones \n",
    "#(primero multiplicaciones y divisiones, después sumas y restas).\n",
    "\n",
    "#EJERCICIO#1\n",
    "\n",
    "1 + 2 * 3"
   ]
  },
  {
   "cell_type": "code",
   "execution_count": 18,
   "id": "73b80576",
   "metadata": {},
   "outputs": [
    {
     "data": {
      "text/plain": [
       "2"
      ]
     },
     "execution_count": 18,
     "metadata": {},
     "output_type": "execute_result"
    }
   ],
   "source": [
    "#EJERCICIO#2\n",
    "\n",
    "10 - 4 * 2"
   ]
  },
  {
   "cell_type": "code",
   "execution_count": 19,
   "id": "51df30c5",
   "metadata": {},
   "outputs": [
    {
     "data": {
      "text/plain": [
       "2.6"
      ]
     },
     "execution_count": 19,
     "metadata": {},
     "output_type": "execute_result"
    }
   ],
   "source": [
    "#En caso de querer que las operaciones se realicen en otro orden,\n",
    "#se deben utilizar paréntesis.\n",
    "\n",
    "(5 + 8) / (7 - 2)"
   ]
  },
  {
   "cell_type": "markdown",
   "id": "27218136",
   "metadata": {},
   "source": [
    "EJEMPLOS DE ERRORES EN PYTHON"
   ]
  },
  {
   "cell_type": "code",
   "execution_count": 20,
   "id": "7b551ce7",
   "metadata": {},
   "outputs": [
    {
     "ename": "ZeroDivisionError",
     "evalue": "division by zero",
     "output_type": "error",
     "traceback": [
      "\u001b[1;31m---------------------------------------------------------------------------\u001b[0m",
      "\u001b[1;31mZeroDivisionError\u001b[0m                         Traceback (most recent call last)",
      "\u001b[1;32m~\\AppData\\Local\\Temp\\ipykernel_6368\\2331073613.py\u001b[0m in \u001b[0;36m<module>\u001b[1;34m\u001b[0m\n\u001b[0;32m      1\u001b[0m \u001b[1;31m#Dividir por cero genera un error:\u001b[0m\u001b[1;33m\u001b[0m\u001b[1;33m\u001b[0m\u001b[0m\n\u001b[1;32m----> 2\u001b[1;33m \u001b[1;36m5\u001b[0m \u001b[1;33m/\u001b[0m \u001b[1;36m0\u001b[0m\u001b[1;33m\u001b[0m\u001b[1;33m\u001b[0m\u001b[0m\n\u001b[0m",
      "\u001b[1;31mZeroDivisionError\u001b[0m: division by zero"
     ]
    }
   ],
   "source": [
    "#Dividir por cero genera un error:\n",
    "\n",
    "5 / 0"
   ]
  },
  {
   "cell_type": "code",
   "execution_count": 23,
   "id": "3f9e9064",
   "metadata": {},
   "outputs": [
    {
     "data": {
      "text/plain": [
       "33.333333333333336"
      ]
     },
     "execution_count": 23,
     "metadata": {},
     "output_type": "execute_result"
    }
   ],
   "source": [
    "#Al realizar operaciones con decimales, los resultados pueden, \n",
    "#presentar errores de redondeo:\n",
    "\n",
    "100 / 3"
   ]
  },
  {
   "cell_type": "code",
   "execution_count": 24,
   "id": "624d527c",
   "metadata": {},
   "outputs": [
    {
     "data": {
      "text/plain": [
       "2.4"
      ]
     },
     "execution_count": 24,
     "metadata": {},
     "output_type": "execute_result"
    }
   ],
   "source": [
    "#Debido a los errores de redondeo, dos operaciones que \n",
    "#debieran dar el mismo resultado pueden dar resultados diferentes:\n",
    "\n",
    "#EJEMPLO#1\n",
    "\n",
    "4 * 3 / 5"
   ]
  },
  {
   "cell_type": "code",
   "execution_count": 25,
   "id": "179c2af6",
   "metadata": {},
   "outputs": [
    {
     "data": {
      "text/plain": [
       "2.4000000000000004"
      ]
     },
     "execution_count": 25,
     "metadata": {},
     "output_type": "execute_result"
    }
   ],
   "source": [
    "#EJEMPLO#1 CON NUMEROS CAMBIADOS DE POSICION\n",
    "\n",
    "4 / 5 * 3"
   ]
  },
  {
   "cell_type": "code",
   "execution_count": 26,
   "id": "d1af4090",
   "metadata": {},
   "outputs": [
    {
     "data": {
      "text/plain": [
       "-1"
      ]
     },
     "execution_count": 26,
     "metadata": {},
     "output_type": "execute_result"
    }
   ],
   "source": [
    "#Se pueden escribir sumas y restas seguidas, pero no se recomienda,\n",
    "#hacerlo porque no es una notación habitual:\n",
    "\n",
    "#EJEMPLO#1\n",
    "\n",
    "3 + - + 4"
   ]
  },
  {
   "cell_type": "code",
   "execution_count": 27,
   "id": "de47b2c9",
   "metadata": {},
   "outputs": [
    {
     "data": {
      "text/plain": [
       "7"
      ]
     },
     "execution_count": 27,
     "metadata": {},
     "output_type": "execute_result"
    }
   ],
   "source": [
    "#EJEMPLO#2\n",
    "\n",
    "3 - + - + 4"
   ]
  },
  {
   "cell_type": "code",
   "execution_count": 28,
   "id": "1d291f41",
   "metadata": {},
   "outputs": [
    {
     "ename": "SyntaxError",
     "evalue": "invalid syntax (1224859286.py, line 2)",
     "output_type": "error",
     "traceback": [
      "\u001b[1;36m  File \u001b[1;32m\"C:\\Users\\Kevin\\AppData\\Local\\Temp\\ipykernel_6368\\1224859286.py\"\u001b[1;36m, line \u001b[1;32m2\u001b[0m\n\u001b[1;33m    3 * / 4\u001b[0m\n\u001b[1;37m        ^\u001b[0m\n\u001b[1;31mSyntaxError\u001b[0m\u001b[1;31m:\u001b[0m invalid syntax\n"
     ]
    }
   ],
   "source": [
    "#Lo que no se puede hacer es escribir multiplicaciones y divisiones seguidas:\n",
    "\n",
    "3 * / 4"
   ]
  },
  {
   "cell_type": "markdown",
   "id": "b3d570c1",
   "metadata": {},
   "source": [
    "Cociente de una división"
   ]
  },
  {
   "cell_type": "code",
   "execution_count": 29,
   "id": "8c072bfc",
   "metadata": {},
   "outputs": [
    {
     "data": {
      "text/plain": [
       "3"
      ]
     },
     "execution_count": 29,
     "metadata": {},
     "output_type": "execute_result"
    }
   ],
   "source": [
    "#El cociente de una división se calcula en Python con el operador //.\n",
    "#El resultado es siempre un número entero, pero será de tipo entero o decimal \n",
    "#dependiendo del tipo de los números empleados \n",
    "#(en caso de ser decimal, la parte decimal es siempre cero). \n",
    "#Por ejemplo:\n",
    "\n",
    "#EJEMPLO#1\n",
    "\n",
    "10 // 3"
   ]
  },
  {
   "cell_type": "code",
   "execution_count": 30,
   "id": "90f451bc",
   "metadata": {},
   "outputs": [
    {
     "data": {
      "text/plain": [
       "3.0"
      ]
     },
     "execution_count": 30,
     "metadata": {},
     "output_type": "execute_result"
    }
   ],
   "source": [
    "#EJEMPLO#2\n",
    "\n",
    "20 // 6.0"
   ]
  },
  {
   "cell_type": "code",
   "execution_count": 31,
   "id": "3605cf37",
   "metadata": {},
   "outputs": [
    {
     "data": {
      "text/plain": [
       "2.5"
      ]
     },
     "execution_count": 31,
     "metadata": {},
     "output_type": "execute_result"
    }
   ],
   "source": [
    "#El operador cociente // tiene la misma prioridad que la división:\n",
    "\n",
    "#EJEMPLO#1\n",
    "\n",
    "26 // 5 / 2"
   ]
  },
  {
   "cell_type": "code",
   "execution_count": 32,
   "id": "430bb543",
   "metadata": {},
   "outputs": [
    {
     "data": {
      "text/plain": [
       "2.5"
      ]
     },
     "execution_count": 32,
     "metadata": {},
     "output_type": "execute_result"
    }
   ],
   "source": [
    "#EJEMPLO#2\n",
    "\n",
    "(26 // 5) / 2"
   ]
  },
  {
   "cell_type": "code",
   "execution_count": 33,
   "id": "7e35a451",
   "metadata": {},
   "outputs": [
    {
     "data": {
      "text/plain": [
       "10.0"
      ]
     },
     "execution_count": 33,
     "metadata": {},
     "output_type": "execute_result"
    }
   ],
   "source": [
    "#EJEMPLO#3\n",
    "\n",
    "26 // (5 / 2)"
   ]
  },
  {
   "cell_type": "code",
   "execution_count": 34,
   "id": "a978c0cd",
   "metadata": {},
   "outputs": [
    {
     "data": {
      "text/plain": [
       "2.0"
      ]
     },
     "execution_count": 34,
     "metadata": {},
     "output_type": "execute_result"
    }
   ],
   "source": [
    "#EJEMPLO#4\n",
    "\n",
    "26 / 5 // 2"
   ]
  },
  {
   "cell_type": "code",
   "execution_count": 35,
   "id": "b59f534d",
   "metadata": {},
   "outputs": [
    {
     "data": {
      "text/plain": [
       "2.0"
      ]
     },
     "execution_count": 35,
     "metadata": {},
     "output_type": "execute_result"
    }
   ],
   "source": [
    "#EJEMPLO#5\n",
    "\n",
    "(26 / 5) // 2"
   ]
  },
  {
   "cell_type": "code",
   "execution_count": 36,
   "id": "86a4f3fb",
   "metadata": {},
   "outputs": [
    {
     "data": {
      "text/plain": [
       "13.0"
      ]
     },
     "execution_count": 36,
     "metadata": {},
     "output_type": "execute_result"
    }
   ],
   "source": [
    "#EJEMPLO#6\n",
    "\n",
    "26 / (5 // 2)"
   ]
  },
  {
   "cell_type": "markdown",
   "id": "4d9dc625",
   "metadata": {},
   "source": [
    "Resto de una división"
   ]
  },
  {
   "cell_type": "code",
   "execution_count": 37,
   "id": "9a22b3fc",
   "metadata": {},
   "outputs": [
    {
     "data": {
      "text/plain": [
       "1"
      ]
     },
     "execution_count": 37,
     "metadata": {},
     "output_type": "execute_result"
    }
   ],
   "source": [
    "#El resto de una división se calcula en Python con el operador %. \n",
    "#El resultado tendrá tipo entero o decimal, de acuerdo,\n",
    "#con el resultado de la operación.\n",
    "\n",
    "#EJEMPLO#1\n",
    "\n",
    "10 % 3"
   ]
  },
  {
   "cell_type": "code",
   "execution_count": 38,
   "id": "c0479f58",
   "metadata": {},
   "outputs": [
    {
     "data": {
      "text/plain": [
       "2"
      ]
     },
     "execution_count": 38,
     "metadata": {},
     "output_type": "execute_result"
    }
   ],
   "source": [
    "#EJEMPLO#2\n",
    "\n",
    "10 % 4"
   ]
  },
  {
   "cell_type": "code",
   "execution_count": 39,
   "id": "54500a2b",
   "metadata": {},
   "outputs": [
    {
     "data": {
      "text/plain": [
       "0"
      ]
     },
     "execution_count": 39,
     "metadata": {},
     "output_type": "execute_result"
    }
   ],
   "source": [
    "#EJEMPLO#3\n",
    "\n",
    "10 % 5"
   ]
  },
  {
   "cell_type": "code",
   "execution_count": 40,
   "id": "ac6ca0e3",
   "metadata": {},
   "outputs": [
    {
     "data": {
      "text/plain": [
       "1.5"
      ]
     },
     "execution_count": 40,
     "metadata": {},
     "output_type": "execute_result"
    }
   ],
   "source": [
    "#EJEMPLO#4\n",
    "\n",
    "10.5 % 3"
   ]
  },
  {
   "cell_type": "code",
   "execution_count": 42,
   "id": "746062d8",
   "metadata": {},
   "outputs": [
    {
     "data": {
      "text/plain": [
       "1.1999999999999993"
      ]
     },
     "execution_count": 42,
     "metadata": {},
     "output_type": "execute_result"
    }
   ],
   "source": [
    "#Cuando el resultado es decimal, pueden aparecer los problemas de \n",
    "#redondeo comentados anteriormente.\n",
    "\n",
    "#EJEMPLO#1\n",
    "\n",
    "10.2 % 3             #EL RESULTADO CORRECTO ES 1.2"
   ]
  },
  {
   "cell_type": "code",
   "execution_count": 43,
   "id": "935fb8f1",
   "metadata": {},
   "outputs": [
    {
     "data": {
      "text/plain": [
       "1.5999999999999996"
      ]
     },
     "execution_count": 43,
     "metadata": {},
     "output_type": "execute_result"
    }
   ],
   "source": [
    "#EJEMPLO#2\n",
    "\n",
    "10 % 4.2            #EL RESULTADO CORRECTO ES 1.6"
   ]
  },
  {
   "cell_type": "code",
   "execution_count": 44,
   "id": "e4dbc0a8",
   "metadata": {},
   "outputs": [
    {
     "data": {
      "text/plain": [
       "5.0"
      ]
     },
     "execution_count": 44,
     "metadata": {},
     "output_type": "execute_result"
    }
   ],
   "source": [
    "#EJEMPLO#3\n",
    "\n",
    "10.1 % 5.1         #ESTE RESULTADO COINCIDE CON EL RESULTADO CORRECTO"
   ]
  },
  {
   "cell_type": "markdown",
   "id": "fe5b5d4a",
   "metadata": {},
   "source": [
    "El operador resto % tiene la misma prioridad que la división:"
   ]
  },
  {
   "cell_type": "code",
   "execution_count": 45,
   "id": "44665f48",
   "metadata": {},
   "outputs": [
    {
     "data": {
      "text/plain": [
       "0.5"
      ]
     },
     "execution_count": 45,
     "metadata": {},
     "output_type": "execute_result"
    }
   ],
   "source": [
    "#EJEMPLO#1\n",
    "\n",
    "26 % 5 / 2"
   ]
  },
  {
   "cell_type": "code",
   "execution_count": 46,
   "id": "cbede055",
   "metadata": {},
   "outputs": [
    {
     "data": {
      "text/plain": [
       "0.5"
      ]
     },
     "execution_count": 46,
     "metadata": {},
     "output_type": "execute_result"
    }
   ],
   "source": [
    "#EJEMPLO#2\n",
    "\n",
    "(26 % 5) / 2"
   ]
  },
  {
   "cell_type": "code",
   "execution_count": 47,
   "id": "56cf05e7",
   "metadata": {},
   "outputs": [
    {
     "data": {
      "text/plain": [
       "1.0"
      ]
     },
     "execution_count": 47,
     "metadata": {},
     "output_type": "execute_result"
    }
   ],
   "source": [
    "#EJEMPLO#3\n",
    "\n",
    "26 % (5 / 2)"
   ]
  },
  {
   "cell_type": "code",
   "execution_count": 48,
   "id": "46112192",
   "metadata": {},
   "outputs": [
    {
     "data": {
      "text/plain": [
       "1.2000000000000002"
      ]
     },
     "execution_count": 48,
     "metadata": {},
     "output_type": "execute_result"
    }
   ],
   "source": [
    "#EJEMPLO#4\n",
    "\n",
    "26 / 5 % 2"
   ]
  },
  {
   "cell_type": "code",
   "execution_count": 49,
   "id": "11af1592",
   "metadata": {},
   "outputs": [
    {
     "data": {
      "text/plain": [
       "1.2000000000000002"
      ]
     },
     "execution_count": 49,
     "metadata": {},
     "output_type": "execute_result"
    }
   ],
   "source": [
    "#EJEMPLO#5\n",
    "\n",
    "(26 / 5) % 2"
   ]
  },
  {
   "cell_type": "code",
   "execution_count": 50,
   "id": "1fe59c25",
   "metadata": {},
   "outputs": [
    {
     "data": {
      "text/plain": [
       "26.0"
      ]
     },
     "execution_count": 50,
     "metadata": {},
     "output_type": "execute_result"
    }
   ],
   "source": [
    "#EJEMPLO#6\n",
    "\n",
    "26 / (5 % 2)"
   ]
  },
  {
   "cell_type": "markdown",
   "id": "91d1fca9",
   "metadata": {},
   "source": [
    "La función integrada divmod()"
   ]
  },
  {
   "cell_type": "code",
   "execution_count": 51,
   "id": "abc83d35",
   "metadata": {},
   "outputs": [
    {
     "data": {
      "text/plain": [
       "(3, 1)"
      ]
     },
     "execution_count": 51,
     "metadata": {},
     "output_type": "execute_result"
    }
   ],
   "source": [
    "#La función integrada divmod(x, y) devuelve una tupla formada \n",
    "#por el cociente y el resto de la división de x entre y.\n",
    "\n",
    "divmod(13, 4)"
   ]
  },
  {
   "cell_type": "markdown",
   "id": "29f2d2b4",
   "metadata": {},
   "source": [
    "También se pueden calcular potencias o raíces mediante la función integrada pow(x,y). Si se da un tercer argumento, pow(x, y, z), la función calcula primero x elevado a y después calcula el resto de la división por z."
   ]
  },
  {
   "cell_type": "code",
   "execution_count": 52,
   "id": "2c692d56",
   "metadata": {},
   "outputs": [
    {
     "data": {
      "text/plain": [
       "8"
      ]
     },
     "execution_count": 52,
     "metadata": {},
     "output_type": "execute_result"
    }
   ],
   "source": [
    "#EJEMPLO#1\n",
    "\n",
    "pow(2, 3)"
   ]
  },
  {
   "cell_type": "code",
   "execution_count": 53,
   "id": "8b5edf75",
   "metadata": {},
   "outputs": [
    {
     "data": {
      "text/plain": [
       "2.0"
      ]
     },
     "execution_count": 53,
     "metadata": {},
     "output_type": "execute_result"
    }
   ],
   "source": [
    "#EJEMPLO#2\n",
    "\n",
    "pow(4, 0.5)"
   ]
  },
  {
   "cell_type": "code",
   "execution_count": 54,
   "id": "5048638e",
   "metadata": {},
   "outputs": [
    {
     "data": {
      "text/plain": [
       "3"
      ]
     },
     "execution_count": 54,
     "metadata": {},
     "output_type": "execute_result"
    }
   ],
   "source": [
    "#EJEMPLO#3\n",
    "\n",
    "pow(2, 3, 5)"
   ]
  },
  {
   "cell_type": "markdown",
   "id": "58ea8d24",
   "metadata": {},
   "source": [
    "Redondear un número"
   ]
  },
  {
   "cell_type": "markdown",
   "id": "515a0c00",
   "metadata": {},
   "source": [
    "Aunque no se puede dar una regla válida en todas las situaciones, normalmente es conveniente redondear el resultado de un cálculo cuando se muestra al usuario, sobre todo si tiene muchos decimales, para facilitar su lectura.\n",
    "\n",
    "Lo que no se debe hacer nunca es redondear resultados intermedios que se vayan a utilizar en cálculos posteriores, porque el resultado final será diferente."
   ]
  },
  {
   "cell_type": "markdown",
   "id": "a462bc66",
   "metadata": {},
   "source": [
    "La función integrada round()"
   ]
  },
  {
   "cell_type": "markdown",
   "id": "6ddc06a5",
   "metadata": {},
   "source": [
    "Para redondear un número (por ejemplo, cuando se muestra al usuario el resultado final de un cálculo), se puede utilizar la función integrada round(). La función integrada round() admite uno o dos argumentos numéricos."
   ]
  },
  {
   "cell_type": "code",
   "execution_count": 55,
   "id": "df4747b9",
   "metadata": {},
   "outputs": [
    {
     "data": {
      "text/plain": [
       "4"
      ]
     },
     "execution_count": 55,
     "metadata": {},
     "output_type": "execute_result"
    }
   ],
   "source": [
    "#Si sólo hay un argumento, la función devuelve el argumento, \n",
    "#redondeado al entero más próximo:\n",
    "\n",
    "#EJEMPLO#1\n",
    "\n",
    "round(4.35)"
   ]
  },
  {
   "cell_type": "code",
   "execution_count": 56,
   "id": "45acdc7b",
   "metadata": {},
   "outputs": [
    {
     "data": {
      "text/plain": [
       "-4"
      ]
     },
     "execution_count": 56,
     "metadata": {},
     "output_type": "execute_result"
    }
   ],
   "source": [
    "#EJEMPLO#2\n",
    "\n",
    "round(-4.35)"
   ]
  },
  {
   "cell_type": "markdown",
   "id": "40d0c442",
   "metadata": {},
   "source": [
    "Si se escriben dos argumentos, siendo el segundo un número entero, la función integrada round() devuelve el primer argumento redondeado en la posición indicada por el segundo argumento."
   ]
  },
  {
   "cell_type": "code",
   "execution_count": 57,
   "id": "86a5a134",
   "metadata": {},
   "outputs": [
    {
     "data": {
      "text/plain": [
       "4.35"
      ]
     },
     "execution_count": 57,
     "metadata": {},
     "output_type": "execute_result"
    }
   ],
   "source": [
    "#Si el segundo argumento es positivo, el primer argumento se, \n",
    "#redondea con el número de decimales indicado:\n",
    "\n",
    "#EJEMPLO#1\n",
    "\n",
    "round(4.3527, 2)"
   ]
  },
  {
   "cell_type": "code",
   "execution_count": 58,
   "id": "36839b30",
   "metadata": {},
   "outputs": [
    {
     "data": {
      "text/plain": [
       "4.4"
      ]
     },
     "execution_count": 58,
     "metadata": {},
     "output_type": "execute_result"
    }
   ],
   "source": [
    "#EJEMPLO#2\n",
    "\n",
    "round(4.3527, 1)"
   ]
  },
  {
   "cell_type": "code",
   "execution_count": 59,
   "id": "3865ceae",
   "metadata": {},
   "outputs": [
    {
     "data": {
      "text/plain": [
       "4.353"
      ]
     },
     "execution_count": 59,
     "metadata": {},
     "output_type": "execute_result"
    }
   ],
   "source": [
    "#EJEMPLO#3\n",
    "\n",
    "round(4.3527, 3)"
   ]
  },
  {
   "cell_type": "code",
   "execution_count": 60,
   "id": "64157307",
   "metadata": {},
   "outputs": [
    {
     "data": {
      "text/plain": [
       "4.3527"
      ]
     },
     "execution_count": 60,
     "metadata": {},
     "output_type": "execute_result"
    }
   ],
   "source": [
    "#Si se piden más decimales de los que tiene el número, \n",
    "#se obtiene el primer argumento, sin cambios:\n",
    "\n",
    "#EJEMPLO#1\n",
    "\n",
    "round(4.3527, 7)"
   ]
  },
  {
   "cell_type": "code",
   "execution_count": 61,
   "id": "49cebfd2",
   "metadata": {},
   "outputs": [
    {
     "data": {
      "text/plain": [
       "435"
      ]
     },
     "execution_count": 61,
     "metadata": {},
     "output_type": "execute_result"
    }
   ],
   "source": [
    "#EJEMPLO#2\n",
    "\n",
    "round(435, 2)"
   ]
  },
  {
   "cell_type": "code",
   "execution_count": 62,
   "id": "afc374cc",
   "metadata": {},
   "outputs": [
    {
     "data": {
      "text/plain": [
       "4.0"
      ]
     },
     "execution_count": 62,
     "metadata": {},
     "output_type": "execute_result"
    }
   ],
   "source": [
    "#Si el segundo argumento es 0 y el primero es un número decimal, \n",
    "#se redondea al entero más próximo, como cuando no se, \n",
    "#escribe segundo argumento, \n",
    "#pero la diferencia es que el resultado es decimal y no entero.\n",
    "\n",
    "#EJEMPLO#1\n",
    "\n",
    "round(4.3527, 0)"
   ]
  },
  {
   "cell_type": "code",
   "execution_count": 63,
   "id": "78293b9c",
   "metadata": {},
   "outputs": [
    {
     "data": {
      "text/plain": [
       "4"
      ]
     },
     "execution_count": 63,
     "metadata": {},
     "output_type": "execute_result"
    }
   ],
   "source": [
    "#EJEMPLO#2\n",
    "\n",
    "round(4.3527)"
   ]
  },
  {
   "cell_type": "code",
   "execution_count": 64,
   "id": "96f4f1b9",
   "metadata": {},
   "outputs": [
    {
     "data": {
      "text/plain": [
       "435"
      ]
     },
     "execution_count": 64,
     "metadata": {},
     "output_type": "execute_result"
    }
   ],
   "source": [
    "#Si el segundo argumento es 0 y el primero es un número entero,\n",
    "#el resultado es entero:\n",
    "\n",
    "#EJEMPLO\n",
    "\n",
    "round(435, 0)"
   ]
  },
  {
   "cell_type": "code",
   "execution_count": 65,
   "id": "5c26eb33",
   "metadata": {},
   "outputs": [
    {
     "data": {
      "text/plain": [
       "43530"
      ]
     },
     "execution_count": 65,
     "metadata": {},
     "output_type": "execute_result"
    }
   ],
   "source": [
    "#Si el segundo argumento es negativo, se redondea a decenas, centenas, etc.\n",
    "\n",
    "#EJEMPLO#1\n",
    "\n",
    "round(43527, -1)"
   ]
  },
  {
   "cell_type": "code",
   "execution_count": 66,
   "id": "7e1579c1",
   "metadata": {},
   "outputs": [
    {
     "data": {
      "text/plain": [
       "43500"
      ]
     },
     "execution_count": 66,
     "metadata": {},
     "output_type": "execute_result"
    }
   ],
   "source": [
    "#EJEMPLO#2\n",
    "\n",
    "round(43527, -2)"
   ]
  },
  {
   "cell_type": "code",
   "execution_count": 67,
   "id": "3066472a",
   "metadata": {},
   "outputs": [
    {
     "data": {
      "text/plain": [
       "44000"
      ]
     },
     "execution_count": 67,
     "metadata": {},
     "output_type": "execute_result"
    }
   ],
   "source": [
    "#EJEMPLO#3\n",
    "\n",
    "round(43527, -3)"
   ]
  },
  {
   "cell_type": "code",
   "execution_count": 68,
   "id": "5884e9c4",
   "metadata": {},
   "outputs": [
    {
     "data": {
      "text/plain": [
       "40000"
      ]
     },
     "execution_count": 68,
     "metadata": {},
     "output_type": "execute_result"
    }
   ],
   "source": [
    "#EJEMPLO#4\n",
    "\n",
    "round(43527, -4)"
   ]
  },
  {
   "cell_type": "code",
   "execution_count": 69,
   "id": "e3cb3324",
   "metadata": {},
   "outputs": [
    {
     "data": {
      "text/plain": [
       "0"
      ]
     },
     "execution_count": 69,
     "metadata": {},
     "output_type": "execute_result"
    }
   ],
   "source": [
    "#EJEMPLO#5\n",
    "\n",
    "round(43527, -5)"
   ]
  },
  {
   "cell_type": "markdown",
   "id": "85a8b175",
   "metadata": {},
   "source": [
    "La función integrada round() redondea correctamente al número más próximo del orden de magnitud deseado (entero, décimas, decenas, centésimas, centenas, etc). El problema es cuando el número a redondear está justo en medio (por ejemplo, redondear 3.5 a entero, 4.85 a décimas, etc.). En Matemáticas se suele redondear siempre hacia arriba, pero en Python se sigue otro criterio:"
   ]
  },
  {
   "cell_type": "code",
   "execution_count": 70,
   "id": "4ebf54d0",
   "metadata": {},
   "outputs": [
    {
     "data": {
      "text/plain": [
       "4"
      ]
     },
     "execution_count": 70,
     "metadata": {},
     "output_type": "execute_result"
    }
   ],
   "source": [
    "#Cuando se redondea a enteros, decenas, centenas, etc., \n",
    "#Python redondea de manera que la última cifra (la redondeada) sea par.\n",
    "\n",
    "#EJEMPLO#1\n",
    "\n",
    "round(3.5)"
   ]
  },
  {
   "cell_type": "code",
   "execution_count": 71,
   "id": "7a769442",
   "metadata": {},
   "outputs": [
    {
     "data": {
      "text/plain": [
       "4"
      ]
     },
     "execution_count": 71,
     "metadata": {},
     "output_type": "execute_result"
    }
   ],
   "source": [
    "#EJEMPLO#2\n",
    "\n",
    "round(4.5)"
   ]
  },
  {
   "cell_type": "code",
   "execution_count": 72,
   "id": "6968d328",
   "metadata": {},
   "outputs": [
    {
     "data": {
      "text/plain": [
       "6"
      ]
     },
     "execution_count": 72,
     "metadata": {},
     "output_type": "execute_result"
    }
   ],
   "source": [
    "#EJEMPLO#3\n",
    "\n",
    "round(5.5)"
   ]
  },
  {
   "cell_type": "code",
   "execution_count": 73,
   "id": "68030498",
   "metadata": {},
   "outputs": [
    {
     "data": {
      "text/plain": [
       "6"
      ]
     },
     "execution_count": 73,
     "metadata": {},
     "output_type": "execute_result"
    }
   ],
   "source": [
    "#EJEMPLO#4\n",
    "\n",
    "round(6.5)"
   ]
  },
  {
   "cell_type": "code",
   "execution_count": 74,
   "id": "302043bd",
   "metadata": {},
   "outputs": [
    {
     "data": {
      "text/plain": [
       "400"
      ]
     },
     "execution_count": 74,
     "metadata": {},
     "output_type": "execute_result"
    }
   ],
   "source": [
    "#EJEMPLO#5\n",
    "\n",
    "round(450, -2)"
   ]
  },
  {
   "cell_type": "code",
   "execution_count": 75,
   "id": "9c3c6058",
   "metadata": {},
   "outputs": [
    {
     "data": {
      "text/plain": [
       "400"
      ]
     },
     "execution_count": 75,
     "metadata": {},
     "output_type": "execute_result"
    }
   ],
   "source": [
    "#EJEMPLO#6\n",
    "\n",
    "round(350, -2)"
   ]
  },
  {
   "cell_type": "code",
   "execution_count": 76,
   "id": "67e92c41",
   "metadata": {},
   "outputs": [
    {
     "data": {
      "text/plain": [
       "200"
      ]
     },
     "execution_count": 76,
     "metadata": {},
     "output_type": "execute_result"
    }
   ],
   "source": [
    "#EJEMPLO#7\n",
    "\n",
    "round(250, -2)"
   ]
  },
  {
   "cell_type": "code",
   "execution_count": 77,
   "id": "7c1628e5",
   "metadata": {},
   "outputs": [
    {
     "data": {
      "text/plain": [
       "200"
      ]
     },
     "execution_count": 77,
     "metadata": {},
     "output_type": "execute_result"
    }
   ],
   "source": [
    "#EJEMPLO#8\n",
    "\n",
    "round(150, -2)"
   ]
  },
  {
   "cell_type": "code",
   "execution_count": 78,
   "id": "85d25cc8",
   "metadata": {},
   "outputs": [
    {
     "data": {
      "text/plain": [
       "0"
      ]
     },
     "execution_count": 78,
     "metadata": {},
     "output_type": "execute_result"
    }
   ],
   "source": [
    "#EJEMPLO#9\n",
    "\n",
    "round(50, -2)"
   ]
  },
  {
   "cell_type": "markdown",
   "id": "718986be",
   "metadata": {},
   "source": [
    "Cuando se redondea a décimas, centésimas, etc., Python redondea en unos casos para arriba y en otros para abajo, debido a la forma en que se representan internamente los números decimales (como se explica en el apartado Representación de números decimales en binario):"
   ]
  },
  {
   "cell_type": "code",
   "execution_count": 79,
   "id": "f6456633",
   "metadata": {},
   "outputs": [
    {
     "data": {
      "text/plain": [
       "3.1"
      ]
     },
     "execution_count": 79,
     "metadata": {},
     "output_type": "execute_result"
    }
   ],
   "source": [
    "#EJEMPLO#1\n",
    "\n",
    "round(3.15, 1)"
   ]
  },
  {
   "cell_type": "code",
   "execution_count": 80,
   "id": "28fb42e8",
   "metadata": {},
   "outputs": [
    {
     "data": {
      "text/plain": [
       "3.5"
      ]
     },
     "execution_count": 80,
     "metadata": {},
     "output_type": "execute_result"
    }
   ],
   "source": [
    "#EJEMPLO#2\n",
    "\n",
    "round(3.45, 1)"
   ]
  },
  {
   "cell_type": "code",
   "execution_count": 81,
   "id": "7cf326fc",
   "metadata": {},
   "outputs": [
    {
     "data": {
      "text/plain": [
       "3.6"
      ]
     },
     "execution_count": 81,
     "metadata": {},
     "output_type": "execute_result"
    }
   ],
   "source": [
    "#EJEMPLO#3\n",
    "\n",
    "round(3.65, 1)"
   ]
  },
  {
   "cell_type": "code",
   "execution_count": 82,
   "id": "ea95760b",
   "metadata": {},
   "outputs": [
    {
     "data": {
      "text/plain": [
       "0.32"
      ]
     },
     "execution_count": 82,
     "metadata": {},
     "output_type": "execute_result"
    }
   ],
   "source": [
    "#EJEMPLO#4\n",
    "\n",
    "round(0.315, 2)"
   ]
  },
  {
   "cell_type": "code",
   "execution_count": 83,
   "id": "4f28c617",
   "metadata": {},
   "outputs": [
    {
     "data": {
      "text/plain": [
       "0.34"
      ]
     },
     "execution_count": 83,
     "metadata": {},
     "output_type": "execute_result"
    }
   ],
   "source": [
    "#EJEMPLO#5\n",
    "\n",
    "round(0.345, 2)"
   ]
  },
  {
   "cell_type": "code",
   "execution_count": 84,
   "id": "56eb13e8",
   "metadata": {},
   "outputs": [
    {
     "data": {
      "text/plain": [
       "0.36"
      ]
     },
     "execution_count": 84,
     "metadata": {},
     "output_type": "execute_result"
    }
   ],
   "source": [
    "#EJEMPLO#6\n",
    "\n",
    "round(0.365, 2)"
   ]
  },
  {
   "cell_type": "markdown",
   "id": "01b16999",
   "metadata": {},
   "source": [
    "Representación de números decimales en binario."
   ]
  },
  {
   "cell_type": "markdown",
   "id": "a5513223",
   "metadata": {},
   "source": [
    "En Python los números decimales se almacenan internamente en binario con 53 bits de precisión (en concreto, se trata del formato de coma flotante de doble precisión de la norma IEEE-754). Cuando un programa pide a Python un cálculo con números decimales, Python convierte esos números decimales a binario, realiza la operación en binario y convierte el resultado de nuevo en decimal para mostrárselo al usuario.\n",
    "\n",
    "El problema es que muchos números decimales no se pueden representarse de forma exacta en binario, por lo que los resultados no pueden ser exactos. Eso explica, por ejemplo, los resultados del ejemplo anterior:"
   ]
  },
  {
   "cell_type": "code",
   "execution_count": 85,
   "id": "2d7a43bd",
   "metadata": {},
   "outputs": [
    {
     "data": {
      "text/plain": [
       "3.5"
      ]
     },
     "execution_count": 85,
     "metadata": {},
     "output_type": "execute_result"
    }
   ],
   "source": [
    "#EJEMPLO#1\n",
    "\n",
    "round(3.45, 1)"
   ]
  },
  {
   "cell_type": "code",
   "execution_count": 86,
   "id": "7e488ef9",
   "metadata": {},
   "outputs": [
    {
     "data": {
      "text/plain": [
       "3.5"
      ]
     },
     "execution_count": 86,
     "metadata": {},
     "output_type": "execute_result"
    }
   ],
   "source": [
    "#EJEMPLO#2\n",
    "\n",
    "round(3.55, 1)"
   ]
  },
  {
   "cell_type": "markdown",
   "id": "2d708b83",
   "metadata": {},
   "source": [
    "En el primer ejemplo, al convertir 3.45 a binario con 53 bits de precisión, el valor obtenido es realmente 3.45000000000000017763568394002504646778106689453125, es decir, ligeramente mayor que 3.45, por lo que al redondear con décimas, Python muestra el valor 3.5.\n",
    "\n",
    "En el segundo ejemplo, al convertir 3.55 a binario con 53 bits de precisión, el valor obtenido es realmente 3.54999999999999982236431605997495353221893310546875, es decir, ligeramente inferior a 3.55, por lo que al redondear con décimas, Python muestra también el valor 3.5."
   ]
  },
  {
   "cell_type": "markdown",
   "id": "7fbb754d",
   "metadata": {},
   "source": [
    "OBSERVACION:\n",
    "\n",
    "Para ver el valor que se obtiene al convertir un número decimal a binario se puede utilizar el tipo Decimal de la biblioteca decimal:\n"
   ]
  },
  {
   "cell_type": "code",
   "execution_count": 87,
   "id": "04a73b0b",
   "metadata": {},
   "outputs": [
    {
     "data": {
      "text/plain": [
       "Decimal('3.45000000000000017763568394002504646778106689453125')"
      ]
     },
     "execution_count": 87,
     "metadata": {},
     "output_type": "execute_result"
    }
   ],
   "source": [
    "#EJEMPLO#1\n",
    "\n",
    "from decimal import Decimal\n",
    "Decimal(3.45)\n"
   ]
  },
  {
   "cell_type": "code",
   "execution_count": 88,
   "id": "5187a923",
   "metadata": {},
   "outputs": [
    {
     "data": {
      "text/plain": [
       "Decimal('3.54999999999999982236431605997495353221893310546875')"
      ]
     },
     "execution_count": 88,
     "metadata": {},
     "output_type": "execute_result"
    }
   ],
   "source": [
    "#EJEMPLO#2\n",
    "\n",
    "from decimal import Decimal\n",
    "Decimal(3.55)"
   ]
  },
  {
   "cell_type": "markdown",
   "id": "8eea8a65",
   "metadata": {},
   "source": [
    "El problema del redondeo se agudiza cuando se hacen operaciones, puesto que los errores pueden acumularse (aunque a veces se compensan y pasan desapercibidos).\n",
    "\n",
    "En algunos casos extremos, el error es apreciable en cálculos muy sencillos:"
   ]
  },
  {
   "cell_type": "code",
   "execution_count": 89,
   "id": "dd259e56",
   "metadata": {},
   "outputs": [
    {
     "data": {
      "text/plain": [
       "0.30000000000000004"
      ]
     },
     "execution_count": 89,
     "metadata": {},
     "output_type": "execute_result"
    }
   ],
   "source": [
    "#EJEMPLO\n",
    "\n",
    "0.1 + 0.1 + 0.1"
   ]
  },
  {
   "cell_type": "markdown",
   "id": "6362e61c",
   "metadata": {},
   "source": [
    "En la mayoría de situaciones, estos errores no tienen consecuencias importantes en los resultados finales, pero si en una aplicación concreta se necesita total exactitud, se deben utilizar bibliotecas específicas. Python incluye la biblioteca decimal y existen bibliotecas como mpmath que admiten precisión arbitraria.\n"
   ]
  },
  {
   "cell_type": "markdown",
   "id": "0c95c3b4",
   "metadata": {},
   "source": [
    "Otras funciones integradas (built-in functions)"
   ]
  },
  {
   "cell_type": "markdown",
   "id": "ad735af2",
   "metadata": {},
   "source": [
    "El intérprete de Python incorpora varias funciones integradas que realizan operaciones matemáticas muy habituales."
   ]
  },
  {
   "cell_type": "markdown",
   "id": "e363af50",
   "metadata": {},
   "source": [
    "Valor absoluto: abs()"
   ]
  },
  {
   "cell_type": "markdown",
   "id": "834dbb4a",
   "metadata": {},
   "source": [
    "La función integrada abs() calcula el valor absoluto de un número, es decir, el valor sin signo."
   ]
  },
  {
   "cell_type": "code",
   "execution_count": 90,
   "id": "443ec16b",
   "metadata": {},
   "outputs": [
    {
     "data": {
      "text/plain": [
       "6"
      ]
     },
     "execution_count": 90,
     "metadata": {},
     "output_type": "execute_result"
    }
   ],
   "source": [
    "#EJEMPLO#1\n",
    "\n",
    "abs(-6)"
   ]
  },
  {
   "cell_type": "code",
   "execution_count": 91,
   "id": "4527a6dc",
   "metadata": {},
   "outputs": [
    {
     "data": {
      "text/plain": [
       "7"
      ]
     },
     "execution_count": 91,
     "metadata": {},
     "output_type": "execute_result"
    }
   ],
   "source": [
    "#EJEMPLO#2\n",
    "\n",
    "abs(7)"
   ]
  },
  {
   "cell_type": "markdown",
   "id": "f84bbd60",
   "metadata": {},
   "source": [
    "Máximo: max()"
   ]
  },
  {
   "cell_type": "markdown",
   "id": "c73ac3a9",
   "metadata": {},
   "source": [
    "La función integrada max() calcula el valor máximo de un conjunto de valores (numéricos o alfabéticos). En el caso de cadenas, el valor máximo corresponde al último valor en orden alfabético, sin importar la longitud de la cadena."
   ]
  },
  {
   "cell_type": "code",
   "execution_count": 92,
   "id": "f1cb46be",
   "metadata": {},
   "outputs": [
    {
     "data": {
      "text/plain": [
       "8"
      ]
     },
     "execution_count": 92,
     "metadata": {},
     "output_type": "execute_result"
    }
   ],
   "source": [
    "#EJEMPLO#1\n",
    "\n",
    "max(4, 5, -2, 8, 3.5, -10)"
   ]
  },
  {
   "cell_type": "code",
   "execution_count": 93,
   "id": "12d23645",
   "metadata": {},
   "outputs": [
    {
     "data": {
      "text/plain": [
       "'Tomás'"
      ]
     },
     "execution_count": 93,
     "metadata": {},
     "output_type": "execute_result"
    }
   ],
   "source": [
    "#EJEMPLO#2\n",
    "\n",
    "max(\"David\", \"Alicia\", \"Tomás\", \"Emilio\")"
   ]
  },
  {
   "cell_type": "markdown",
   "id": "150acd73",
   "metadata": {},
   "source": [
    "Las vocales acentuadas, la letra ñ o ç se consideran posteriores al resto de vocales y consonantes."
   ]
  },
  {
   "cell_type": "code",
   "execution_count": 94,
   "id": "e49fd7c7",
   "metadata": {},
   "outputs": [
    {
     "data": {
      "text/plain": [
       "'Ángeles'"
      ]
     },
     "execution_count": 94,
     "metadata": {},
     "output_type": "execute_result"
    }
   ],
   "source": [
    "#EJEMPLO\n",
    "\n",
    "max(\"Ángeles\", \"Roberto\")"
   ]
  },
  {
   "cell_type": "markdown",
   "id": "44fca2fd",
   "metadata": {},
   "source": [
    "Mínimo: min()"
   ]
  },
  {
   "cell_type": "markdown",
   "id": "a3693b75",
   "metadata": {},
   "source": [
    "La función integrada min() calcula el valor mínimo de un conjunto de valores (numéricos o alfabéticos). En el caso de cadenas, el valor mínimo corresponde al primer valor en orden alfabético, sin importar la longitud de la cadena."
   ]
  },
  {
   "cell_type": "code",
   "execution_count": 95,
   "id": "821a3d33",
   "metadata": {},
   "outputs": [
    {
     "data": {
      "text/plain": [
       "-10"
      ]
     },
     "execution_count": 95,
     "metadata": {},
     "output_type": "execute_result"
    }
   ],
   "source": [
    "#EJEMPLO#1\n",
    "\n",
    "min(4, 5, -2, 8, 3.5, -10)"
   ]
  },
  {
   "cell_type": "code",
   "execution_count": 96,
   "id": "dae959ec",
   "metadata": {},
   "outputs": [
    {
     "data": {
      "text/plain": [
       "'Alicia'"
      ]
     },
     "execution_count": 96,
     "metadata": {},
     "output_type": "execute_result"
    }
   ],
   "source": [
    "#EJEMPLO#2\n",
    "min(\"David\", \"Alicia\", \"Tomás\", \"Emilio\")"
   ]
  },
  {
   "cell_type": "markdown",
   "id": "67a7c726",
   "metadata": {},
   "source": [
    "Las vocales acentuadas, la letra ñ o ç se consideran posteriores al resto de vocales y consonantes."
   ]
  },
  {
   "cell_type": "code",
   "execution_count": 97,
   "id": "0781977e",
   "metadata": {},
   "outputs": [
    {
     "data": {
      "text/plain": [
       "'Roberto'"
      ]
     },
     "execution_count": 97,
     "metadata": {},
     "output_type": "execute_result"
    }
   ],
   "source": [
    "min(\"Ángeles\", \"Roberto\")"
   ]
  },
  {
   "cell_type": "markdown",
   "id": "6800e663",
   "metadata": {},
   "source": [
    "Suma: sum()"
   ]
  },
  {
   "cell_type": "markdown",
   "id": "ba0f2ddf",
   "metadata": {},
   "source": [
    "La función integrada sum() calcula la suma de un conjunto de valores. El conjunto de valores debe ser un tipo de datos iterable (tupla, rango, lista, conjunto o diccionario)."
   ]
  },
  {
   "cell_type": "code",
   "execution_count": 98,
   "id": "cb9cc965",
   "metadata": {},
   "outputs": [
    {
     "data": {
      "text/plain": [
       "15"
      ]
     },
     "execution_count": 98,
     "metadata": {},
     "output_type": "execute_result"
    }
   ],
   "source": [
    "#EJEMPLO#1\n",
    "\n",
    "sum((1, 2, 3, 4, 5))"
   ]
  },
  {
   "cell_type": "code",
   "execution_count": 99,
   "id": "1a65cdd7",
   "metadata": {},
   "outputs": [
    {
     "data": {
      "text/plain": [
       "15"
      ]
     },
     "execution_count": 99,
     "metadata": {},
     "output_type": "execute_result"
    }
   ],
   "source": [
    "#EJEMPLO#2\n",
    "\n",
    "sum([1, 2, 3, 4, 5])"
   ]
  },
  {
   "cell_type": "code",
   "execution_count": 101,
   "id": "8d689bf1",
   "metadata": {},
   "outputs": [
    {
     "data": {
      "text/plain": [
       "15"
      ]
     },
     "execution_count": 101,
     "metadata": {},
     "output_type": "execute_result"
    }
   ],
   "source": [
    "#EJEMPLO#3\n",
    "\n",
    "sum(range(6))"
   ]
  },
  {
   "cell_type": "code",
   "execution_count": 102,
   "id": "9d388df7",
   "metadata": {},
   "outputs": [
    {
     "data": {
      "text/plain": [
       "15"
      ]
     },
     "execution_count": 102,
     "metadata": {},
     "output_type": "execute_result"
    }
   ],
   "source": [
    "#EJEMPLO#4\n",
    "\n",
    "sum({1, 2, 3, 4, 5})"
   ]
  },
  {
   "cell_type": "markdown",
   "id": "509b7a20",
   "metadata": {},
   "source": [
    "Ordenación: sorted()"
   ]
  },
  {
   "cell_type": "markdown",
   "id": "e8c68933",
   "metadata": {},
   "source": [
    "La función integrada sorted() ordena un conjunto de valores. El conjunto de valores debe ser un tipo de datos iterable (tupla, rango, lista, conjunto o diccionario). El conjunto de valores no se modifica, la función devuelve una lista con los elementos ordenados."
   ]
  },
  {
   "cell_type": "code",
   "execution_count": 103,
   "id": "9949f37e",
   "metadata": {},
   "outputs": [
    {
     "data": {
      "text/plain": [
       "[-3, 2, 6, 8, 10]"
      ]
     },
     "execution_count": 103,
     "metadata": {},
     "output_type": "execute_result"
    }
   ],
   "source": [
    "#EJEMPLO#1\n",
    "\n",
    "sorted((10, 2, 8, -3, 6))"
   ]
  },
  {
   "cell_type": "code",
   "execution_count": 104,
   "id": "a1673811",
   "metadata": {},
   "outputs": [
    {
     "data": {
      "text/plain": [
       "[-3, 2, 6, 8, 10]"
      ]
     },
     "execution_count": 104,
     "metadata": {},
     "output_type": "execute_result"
    }
   ],
   "source": [
    "#EJEMPLO#2\n",
    "\n",
    "sorted([10, 2, 8, -3, 6])"
   ]
  },
  {
   "cell_type": "code",
   "execution_count": 105,
   "id": "350a3816",
   "metadata": {},
   "outputs": [
    {
     "data": {
      "text/plain": [
       "[-3, 2, 6, 8, 10]"
      ]
     },
     "execution_count": 105,
     "metadata": {},
     "output_type": "execute_result"
    }
   ],
   "source": [
    "#EJEMPLO#3\n",
    "\n",
    "sorted({10, 2, 8, -3, 6})"
   ]
  },
  {
   "cell_type": "code",
   "execution_count": 106,
   "id": "5107aca2",
   "metadata": {},
   "outputs": [
    {
     "data": {
      "text/plain": [
       "['Alicia', 'David', 'Emilio', 'Tomás']"
      ]
     },
     "execution_count": 106,
     "metadata": {},
     "output_type": "execute_result"
    }
   ],
   "source": [
    "#EJEMPLO#4\n",
    "\n",
    "sorted((\"David\", \"Alicia\", \"Tomás\", \"Emilio\"))"
   ]
  },
  {
   "cell_type": "code",
   "execution_count": 107,
   "id": "2c42f367",
   "metadata": {},
   "outputs": [
    {
     "data": {
      "text/plain": [
       "['David', 'Emilio', 'Tomás', 'Ángeles', 'Óscar']"
      ]
     },
     "execution_count": 107,
     "metadata": {},
     "output_type": "execute_result"
    }
   ],
   "source": [
    "#EJEMPLO#5\n",
    "\n",
    "sorted([\"David\", \"Ángeles\", \"Tomás\", \"Óscar\", \"Emilio\"])"
   ]
  },
  {
   "cell_type": "markdown",
   "id": "285256d8",
   "metadata": {},
   "source": [
    "Para saber más:"
   ]
  },
  {
   "cell_type": "markdown",
   "id": "63dbb27e",
   "metadata": {},
   "source": [
    "IEEE-754 precisión simple, precisión doble (Wikipedia en inglés)"
   ]
  },
  {
   "cell_type": "markdown",
   "id": "e807fb22",
   "metadata": {},
   "source": [
    "Manual de Python 3: limitaciones de los decimales en Python"
   ]
  },
  {
   "cell_type": "markdown",
   "id": "506fcf5b",
   "metadata": {},
   "source": [
    "Artículo The perils of Floating Point, de Bruce M. Bush"
   ]
  },
  {
   "cell_type": "markdown",
   "id": "a1eefa16",
   "metadata": {},
   "source": [
    "Artículo What Every Computer Scientist Should Know About Floating-Point Arithmetic, de David Goldberg"
   ]
  },
  {
   "cell_type": "markdown",
   "id": "ad5a9af4",
   "metadata": {},
   "source": [
    "Web What Every Computer Scientist Should Know About Floating-Point Arithmetic"
   ]
  },
  {
   "cell_type": "markdown",
   "id": "42bd5950",
   "metadata": {},
   "source": [
    "<img src = 'imagen_partefinal.jpg'>"
   ]
  }
 ],
 "metadata": {
  "kernelspec": {
   "display_name": "Python 3 (ipykernel)",
   "language": "python",
   "name": "python3"
  },
  "language_info": {
   "codemirror_mode": {
    "name": "ipython",
    "version": 3
   },
   "file_extension": ".py",
   "mimetype": "text/x-python",
   "name": "python",
   "nbconvert_exporter": "python",
   "pygments_lexer": "ipython3",
   "version": "3.9.13"
  }
 },
 "nbformat": 4,
 "nbformat_minor": 5
}
